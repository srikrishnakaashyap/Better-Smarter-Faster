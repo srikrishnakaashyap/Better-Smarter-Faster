{
  "metadata": {
    "language_info": {
      "codemirror_mode": {
        "name": "python",
        "version": 3
      },
      "file_extension": ".py",
      "mimetype": "text/x-python",
      "name": "python",
      "nbconvert_exporter": "python",
      "pygments_lexer": "ipython3",
      "version": "3.8"
    },
    "kernelspec": {
      "name": "python",
      "display_name": "Python (Pyodide)",
      "language": "python"
    }
  },
  "nbformat_minor": 4,
  "nbformat": 4,
  "cells": [
    {
      "cell_type": "code",
      "source": "import numpy as np\n# X = (hours sleeping, hours studying), y = test score of the student\nX = np.array(([2, 9], [1, 5], [3, 6]), dtype=float)\ny = np.array(([92], [86], [89]), dtype=float)\n\n# scale units\nX = X/np.amax(X, axis=0) #maximum of X array\ny = y/100 # maximum test score is 100",
      "metadata": {},
      "execution_count": null,
      "outputs": []
    },
    {
      "cell_type": "code",
      "source": "class NeuralNetwork(object):\n    def _init_(self):\n        #parameters\n        self.inputSize = 2\n        self.outputSize = 1\n        self.hiddenSize = 3\n        \n        #weights\n        self.W1 = np.random.randn(self.inputSize, self.hiddenSize) # (3x2) weight matrix from input to hidden layer\n        self.W2 = np.random.randn(self.hiddenSize, self.outputSize) # (3x1) weight matrix from hidden to output layer\n        \n    def feedForward(self, X):\n        #forward propogation through the network\n        self.z = np.dot(X, self.W1) #dot product of X (input) and first set of weights (3x2)\n        self.z2 = self.sigmoid(self.z) #activation function\n        self.z3 = np.dot(self.z2, self.W2) #dot product of hidden layer (z2) and second set of weights (3x1)\n        output = self.sigmoid(self.z3)\n        return output\n        \n    def sigmoid(self, s, deriv=False):\n        if (deriv == True):\n            return s * (1 - s)\n        return 1/(1 + np.exp(-s))\n    \n    def backward(self, X, y, output):\n        #backward propogate through the network\n        self.output_error = y - output # error in output\n        self.output_delta = self.output_error * self.sigmoid(output, deriv=True)\n        \n        self.z2_error = self.output_delta.dot(self.W2.T) #z2 error: how much our hidden layer weights contribute to output error\n        self.z2_delta = self.z2_error * self.sigmoid(self.z2, deriv=True) #applying derivative of sigmoid to z2 error\n        \n        self.W1 += X.T.dot(self.z2_delta) # adjusting first set (input -> hidden) weights\n        self.W2 += self.z2.T.dot(self.output_delta) # adjusting second set (hidden -> output) weights\n\n    def train(self, X, y):\n        output = self.feedForward(X)\n        self.backward(X, y, output)\n        \n",
      "metadata": {},
      "execution_count": null,
      "outputs": []
    },
    {
      "cell_type": "code",
      "source": "NN = NeuralNetwork()\n\nfor i in range(100000): #trains the NN 1000 times\n    if (i % 100 == 0):\n        print(\"Loss: \" + str(np.mean(np.square(y - NN.feedForward(X)))))\n    NN.train(X, y)",
      "metadata": {},
      "execution_count": null,
      "outputs": []
    }
  ]
}